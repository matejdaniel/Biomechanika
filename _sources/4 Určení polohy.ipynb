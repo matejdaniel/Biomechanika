{
 "cells": [
  {
   "cell_type": "markdown",
   "id": "b91fab0f-07e3-44a3-99a6-01f0e5b3b8e4",
   "metadata": {},
   "source": [
    "# Určení polohy\n",
    "\n",
    "Pomocí metod motion capture můžeme získat trajektorii bodů lidského těla v čase. Pro popis pohybu musíme tuto trajektorii nějakým\n",
    "způsobem vyjádřit, kvantifikovat. \n",
    "\n",
    "Pro další popis budeme vycházet z definice pohybu. Samotnou změnu fyzikální veličiny označujeme v mechanice symbolem $\\Delta$. Například pro změnu času označíme jako $\\Delta t$. Znamená to:\n",
    "$$\\Delta t = t_2 - t_1$$ \n",
    "\n",
    "Začneme-li pohyb v čase 12 hodin 20 minut a ukočníme ho v čase 12 hodin 21 minut, trval daný pohyb 1 minutu. S popisem změny polohy je to o něco komplikovanější vzhledem k rzodělení pohybu. Kůli jednoduchosti budeme uvažovat nejjednodušší způsob měření pohybu u pohybu posuvného a rotačného.\n",
    "\n",
    "## Přímočarý pohyb\n",
    "\n",
    "### Translační pohyb\n",
    "\n",
    "Za nejjednodušší posuvný pohyb budeme považovat pohyb běžce po přímé dráze. Jakým způsobem by jsme mohli určit jeho polohu? Příkladem může být původní měření běhu.\n",
    "\n",
    "![Běh pohyb](https://www.fasttalklabs.com/wp-content/uploads/2023/08/analyze-run-form.jpg)\n",
    "\n",
    "### Souřadnicová osa\n",
    "* **Počátek souřadnic:** Zvolený bod na přímce, od kterého měříme vzdálenosti.\n",
    "* **Kladný směr:** Směr, ve kterém rostou kladné hodnoty souřadnice.\n",
    "* **Záporný směr:** Směr opačný ke kladnému směru.\n",
    "\n",
    "![souřadnicová osa](https://df0b18phdhzpx.cloudfront.net/ckeditor_assets/pictures/1439925/original_13.png)\n",
    "\n",
    "### Poloha bodu\n",
    "* **Souřadnice:** Číselná hodnota udávající vzdálenost bodu od počátku souřadnic ve zvoleném směru. V případě pohybu po přímce nám stačí jedna hodnota $x$.\n",
    "\n",
    "### Změna polohy\n",
    "* **Posunutí:** Změna polohy bodu v čase. Je to vektorová veličina, která má velikost (dráhu) a směr. Označujeme jí $\\vec{\\mathbf{d}}$.\n",
    "\n",
    "### Rychlost\n",
    "* **Rychlost:** Určuje, jak rychle se bod pohybuje. Vypočítá se jako podíl změny dráhy a času.\n",
    "\n",
    "$$\\vec{v} = \\frac{\\Delta x}{\\Delta t}$$\n",
    "\n",
    "* **Průměrná rychlost:** Celková dráha dělená celkovým časem.\n",
    "\n",
    "$$\\vec{v_p} = \\frac{x}{t}$$\n",
    "\n",
    "* **Okamžitá rychlost:** Rychlost v daném okamžiku.\n",
    "\n",
    "### Zrychlení\n",
    "* **Zrychlení:** Určuje, jak se mění rychlost bodu v čase.\n",
    "\n",
    "  $$\\vec{a} = \\frac{\\Delta v}{\\Delta t}$$\n",
    "\n",
    "### Zápis pohybu\n",
    "\n",
    "Možný zápis pohybu je tabulkou, kde vyjádříme jednotlivé body\n",
    "\n",
    "|Čas $t$ \\[s\\] | Poloha $x$ [m]|\n",
    "--- | --- |\n",
    "| 0 | 1 |\n",
    "| 1 | 3 |\n",
    "| 2 | 5 |\n",
    "| 3 | 5 |\n",
    "| 4 | 2 |\n",
    "\n",
    "Zobrazení pomocí tabulky může být nepřehledné když máme velké množství bodů. Proto je výhodnější po popis polohy použít graf\n"
   ]
  },
  {
   "cell_type": "code",
   "execution_count": 6,
   "id": "350065b8-4a65-46aa-a819-36c3212f7449",
   "metadata": {},
   "outputs": [
    {
     "name": "stdout",
     "output_type": "stream",
     "text": [
      "t: [0, 1, 2, 3, 5]\n",
      "x: [0, 1, 2, 3, 5]\n"
     ]
    }
   ],
   "source": [
    "import numpy as np\n",
    "import matplotlib.pyplot as plt\n",
    "\n",
    "t = [0, 1, 2, 3, 5]\n",
    "x = [1, 3, 5, 5, 2]\n",
    "\n",
    "print('t:', t)\n",
    "print('x:', t)"
   ]
  },
  {
   "cell_type": "code",
   "execution_count": 7,
   "id": "27a9d3a7-dc2a-492b-bfb2-236cb2c38657",
   "metadata": {},
   "outputs": [
    {
     "data": {
      "text/plain": [
       "Text(0, 0.5, 'Poloha $x$ [m]')"
      ]
     },
     "execution_count": 7,
     "metadata": {},
     "output_type": "execute_result"
    },
    {
     "data": {
      "image/png": "[encoded data removed]",
      "text/plain": [
       "<Figure size 432x288 with 1 Axes>"
      ]
     },
     "metadata": {
      "needs_background": "light"
     },
     "output_type": "display_data"
    }
   ],
   "source": [
    "plt.plot(t,x, \"o\")\n",
    "plt.xlabel(\"Čas $t$ [s] \")\n",
    "plt.ylabel(\"Poloha $x$ [m]\")"
   ]
  },
  {
   "cell_type": "markdown",
   "id": "5bf0f229-09fc-4b20-9149-41161c6578f1",
   "metadata": {},
   "source": [
    "|Čas $t$ \\[s\\] | Poloha $x$ [m]| Změna času $\\Delta t$ \\[s\\] |  Změna polohy $\\Delta x$ [m] | Rychlost $v$ \\[m/s\\]|\n",
    "--- | --- |--- | --- |--- |\n",
    "| 0 | 1 | -  | - | - |\n",
    "| 1 | 3 | 1 | 2 |2 |\n",
    "| 2 | 5 | 1 | 2 |2 |\n",
    "| 3 | 5 | 1 | 0 |0 |\n",
    "| 5 | 2 | 2 | -3 |-1,5 |"
   ]
  },
  {
   "cell_type": "markdown",
   "id": "ff13b3d8-1509-4351-a077-d633d4c06d55",
   "metadata": {},
   "source": [
    "# Rotační pohyb\n",
    "\n",
    "**Rotační pohyb** je pohyb tělesa kolem osy. Na rozdíl od přímočarého pohybu, kde se všechny body tělesa pohybují po přímkách, při rotačním pohybu se body tělesa pohybují po kružnicích se středem na ose rotace.\n",
    "\n",
    "![Měření polohy gonimetrem](https://www.verywellhealth.com/thmb/owWUJ7QN8t64luEI7m-N7LxE7GQ=/1500x0/filters:no_upscale():max_bytes(150000):strip_icc()/IMG_1113-5890d45b5f9b5874ee6c7ce3.JPG)\n",
    "*Měření polohy flexe goniometrem*\n",
    "\n",
    "### Základní pojmy\n",
    "\n",
    "* **Osa rotace:** Přímka, kolem které se těleso otáčí.\n",
    "* **Úhlová vzdálenost ($\\varphi$):** Úhel, který svírá spojnice bodu na tělese s osou rotace a referenční přímkou. Určujeme v radiánech.\n",
    "* **Úhlová rychlost ($\\omega$):** Rychlost, s jakou se mění úhlová vzdálenost bodu v čase. Jednotkou je radián za sekundu (rad/s).\n",
    "    Matematicky ji vyjádříme jako derivaci úhlové vzdálenosti podle času:\n",
    "  \n",
    "  $$ω = \\frac{d\\varphi}{dt}$$\n",
    "* **Úhlové zrychlení** ($\\alpha$): Změna úhlové rychlosti v čase. Jednotkou je radián za sekundu na druhou (rad/s$^2$). Matematicky ji vyjádříme jako derivaci úhlové rychlosti podle času:\n",
    "  $$ α = \\frac{d\\omega}{dt}$$:\n",
    "\n",
    "* **Perioda** ($T$): Čas, za který se těleso vrátí do původní polohy. Při otáčení se otočí o jeden úplný úhel (360° nebo 2π radiánů).\n",
    "* **Frekvence** ($f$): Počet otáček za jednotku času.\n",
    "\n",
    "**Druhy rotačního pohybu**\n",
    "* **Rovnoměrný rotační pohyb:** Úhlová rychlost je konstantní.\n",
    "* **Nerovnoměrný rotační pohyb:** Úhlová rychlost se mění v čase.\n",
    "\n",
    "### Závislost veličin při rotačním pohybu\n",
    "\n",
    "**Obvodová rychlost ($v$)**: Rychlost, kterou se bod pohybuje po kružnici. Souvisí s úhlovou rychlostí a vzdáleností od osy rotace (r) vztahem:\n",
    "$$ v = \\omega r$$\n",
    "kde $r$ je vzdálenost od osi otáčení\n",
    "\n",
    "**Tangenciální zrychlení** ($a_t$): Zrychlení tečné ke kružnici, které způsobuje změnu velikosti obvodové rychlosti.\n",
    "$$ a_t = r \\alpha$$\n",
    "\n",
    "**Normálové zrychlen** ($a_n$): Zrychlení směřující do středu kružnice, které je způsobeno změnu směru pohybu.\n",
    "$$a_n = \\omega^2 r$$\n",
    "\n"
   ]
  },
  {
   "cell_type": "markdown",
   "id": "cd088917-b69e-4961-9432-4d6c21696dfd",
   "metadata": {},
   "source": [
    "## Srovnání otáčívého s přímočarým pohybem\n",
    "\n",
    "| Veličina | Přímý pohyb | Rotační pohyb |\n",
    "|---|---|---|\n",
    "| Poloha | Souřadnice na přímce ($x$) | Úhlová vzdálenost ($\\varphi$) |\n",
    "| Dráha | Délka úsečky ($s$) | Úhel otočení ($\\varphi$) |\n",
    "| Rychlost | Rychlost ($v$) | Úhlová rychlost ($\\omega$) |\n",
    "| Zrychlení | Zrychlení ($a$) | Úhlové zrychlení ($\\alpha$) |\n"
   ]
  }
 ],
 "metadata": {
  "kernelspec": {
   "display_name": "Python 3 (ipykernel)",
   "language": "python",
   "name": "python3"
  },
  "language_info": {
   "codemirror_mode": {
    "name": "ipython",
    "version": 3
   },
   "file_extension": ".py",
   "mimetype": "text/x-python",
   "name": "python",
   "nbconvert_exporter": "python",
   "pygments_lexer": "ipython3",
   "version": "3.10.12"
  }
 },
 "nbformat": 4,
 "nbformat_minor": 5
}
