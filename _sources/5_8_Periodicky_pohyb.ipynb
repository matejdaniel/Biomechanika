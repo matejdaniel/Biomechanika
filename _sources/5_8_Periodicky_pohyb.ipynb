{
 "cells": [
  {
   "cell_type": "markdown",
   "id": "1dfae22d-4e40-4cd5-a71c-bd1b9d8d9962",
   "metadata": {},
   "source": [
    "# Periodický pohyb\n",
    "\n",
    "> Periodický pohyb je definován jako pohyb, při kterém se poloha, rychlost a další dynamické proměnné systému opakují v pravidelných časových intervalech.\n",
    "\n",
    "Tyto opakující se cykly umožňují analyzovat složité pohyby pomocí několika klíčových parametrů.\n",
    "\n",
    "## Perioda (T)\n",
    "\n",
    "> **Perioda (T)** je **časový interval potřebný k dokončení jednoho úplného cyklu periodického pohybu**.\n",
    "\n",
    "Jinými slovy, je to doba, po které se pohyb začne přesně opakovat. Jednotkou periody v soustavě SI je sekunda (s).\n",
    "\n",
    "Například při chůzi je perioda časový interval mezi dopady stejné nohy na zem. U dýchání je to doba jednoho nádechu a jednoho výdechu.\n",
    "\n",
    "## Frekvence (f)\n",
    "\n",
    "> **Frekvence (f)** je **počet úplných cyklů periodického pohybu, které se uskuteční za jednotku času**.\n",
    "\n",
    "Jednotkou frekvence v soustavě SI je Hertz (Hz), přičemž 1 Hz odpovídá jednomu cyklu za sekundu (s⁻¹).\n",
    "\n",
    "Frekvence a perioda jsou vzájemně převrácené veličiny, což znamená, že platí následující vztah:\n",
    "\n",
    "$$f = \\frac{1}{T}$$\n",
    "\n",
    "a\n",
    "\n",
    "$$T = \\frac{1}{f}$$\n",
    "\n",
    "Například, pokud je perioda chůze 1 sekunda, frekvence chůze je 1 Hz (jeden krok na jednu nohu za sekundu). Pokud je frekvence dýchání 0.2 Hz, pak je perioda dýchání 5 sekund (jeden nádech a výdech trvá 5 sekund).\n",
    "\n",
    "## Periodický pohyb v biomechanice\n",
    "\n",
    "Mezi běžné příklady periodických pohybů studovaných v biomechanice patří:\n",
    "\n",
    "* **Chůze a běh:** Opakující se cykly kroků s charakteristickou periodou a frekvencí.\n",
    "* **Skákání:** Opakující se cykly odrazu a dopadu (i když jednotlivé skoky mohou být analyzovány samostatně, opakované skákání tvoří periodický pohyb).\n",
    "* **Plavání:** Opakující se záběry rukou a nohou s definovanou periodou a frekvencí.\n",
    "* **Cyklistika:** Opakující se otáčení pedálů s charakteristickou frekvencí šlapání (kadencí).\n",
    "* **Dýchání:** Pravidelné cykly nádechu a výdechu.\n",
    "* **Srdeční činnost:** Pravidelné stahy a relaxace srdečního svalu.\n",
    "* **Žvýkání:** Opakující se pohyby čelistí.\n",
    "\n",
    "Analýza periodických pohybů v biomechanice je důležitá z několika důvodů:\n",
    "\n",
    "* **Efektivita pohybu:** Studium periody a frekvence různých pohybů může pomoci identifikovat optimální rytmus pro minimalizaci energetických výdajů. Například optimální frekvence kroku při běhu může snížit metabolické náklady.\n",
    "* **Biomechanické parametry:** Periodické pohyby umožňují studovat a charakterizovat různé biomechanické parametry, jako je délka kroku, výška skoku, úhly v kloubech v průběhu cyklu a svalová aktivita.\n",
    "* **Detekce abnormalit:** Odchylky od typických period a frekvencí mohou indikovat patologie nebo zranění. Například změny v rytmu chůze mohou být známkou bolesti nebo svalové slabosti.\n",
    "* **Robotika a protetika:** Pochopení periodických pohybů člověka inspiruje návrh a řízení robotů a protetických zařízení, které napodobují přirozený lidský pohyb.\n",
    "* **Sportovní výkony:** V mnoha sportech hraje periodický pohyb klíčovou roli. Analýza frekvence a amplitudy pohybů (např. frekvence šlapání u cyklistiky, frekvence záběrů u plavání) může pomoci sportovcům zlepšit svou techniku a výkonnost."
   ]
  }
 ],
 "metadata": {
  "kernelspec": {
   "display_name": "Python 3 (ipykernel)",
   "language": "python",
   "name": "python3"
  },
  "language_info": {
   "codemirror_mode": {
    "name": "ipython",
    "version": 3
   },
   "file_extension": ".py",
   "mimetype": "text/x-python",
   "name": "python",
   "nbconvert_exporter": "python",
   "pygments_lexer": "ipython3",
   "version": "3.10.12"
  }
 },
 "nbformat": 4,
 "nbformat_minor": 5
}
