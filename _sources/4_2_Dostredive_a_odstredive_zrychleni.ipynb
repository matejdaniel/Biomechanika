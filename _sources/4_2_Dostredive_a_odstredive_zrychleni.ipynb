{
 "cells": [
  {
   "cell_type": "markdown",
   "id": "2d38db4c-dee2-4978-a14a-92e7673312ee",
   "metadata": {},
   "source": [
    "# Dostředivé a odstředivé zrychlení"
   ]
  }
 ],
 "metadata": {
  "kernelspec": {
   "display_name": "Python 3 (ipykernel)",
   "language": "python",
   "name": "python3"
  },
  "language_info": {
   "codemirror_mode": {
    "name": "ipython",
    "version": 3
   },
   "file_extension": ".py",
   "mimetype": "text/x-python",
   "name": "python",
   "nbconvert_exporter": "python",
   "pygments_lexer": "ipython3",
   "version": "3.10.12"
  }
 },
 "nbformat": 4,
 "nbformat_minor": 5
}
