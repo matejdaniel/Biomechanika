{
 "cells": [
  {
   "cell_type": "markdown",
   "id": "91f43fe0-c404-4156-a549-ec574af5fe51",
   "metadata": {},
   "source": [
    "# Chůze a zákony zachování\n",
    "\n",
    ":::{image} https://pbs.twimg.com/media/FQznkzeUUAAVVLK?format=jpg&name=small\n",
    ":width:500px\n",
    ":::\n",
    "\n",
    "# Změna kinetické energie\n",
    "\n",
    "Na rozdíl od létání a plavání, kde tělo může klouzat vůči okolnímu médiu, pohyb na nohou na zemi je omezen pevným bodem kontaktu, který noha vytváří se zemí při každém kroku (Tucker, 1973). Během chůze dochází k několika důležitým energetickým procesům, které ovlivňují pohyb a stabilitu těla.\n",
    "\n",
    "Když je během kroku bod kontaktu před těžištěm těla, tělo zpomaluje dopředu, díky spojení mezi těžištěm a bodem kontaktu. To vede k ztrátě kinetické energie pohybu vpřed.\n",
    "\n",
    "$$\n",
    "\\Delta E_k = \\frac{1}{2} m (v_{f, \\text{max}}^2 - v_{f, \\text{min}}^2)\n",
    "$$\n",
    "kde:\n",
    "- $m$ je hmotnost těla\n",
    "- $v_{f, \\text{max}}$ a $v_{f, \\text{min}}$ jsou maximální a minimální hodnoty rychlosti těžiště při každém kroku.\n",
    "\n",
    "Aby byla udržena konstantní průměrná rychlost kroku, musí být ztráta kinetické energie, ke které dochází při každém kroku, obnovena opětovným zrychlením těla vpřed, což vyžaduje práci a výdej energie.\n",
    "\n",
    "## Obnova energie při zvedání těla\n",
    "\n",
    "Naštěstí, stejně jako při skoku o tyči, energie pro spomalení vykonaná během dopadu jedné nohy proti druhé je uložena zvednutím těla $h$ jako zvýšení gravitační potenciální energie.\n",
    "\n",
    "$$\n",
    "\\Delta E_p = m g h\n",
    "$$\n",
    "kde:\n",
    "- $m$ je hmotnost těla\n",
    "- $g$ je gravitační zrychlení\n",
    "- $h$ je zvednutí těla.\n",
    "\n",
    "\n",
    "## Změna potenciální na kinetickou energii\n",
    "\n",
    "Po zvednutí tělo \"padá vpřed\", čímž obnovuje kinetickou energii $E_{k}$ na úkor potenciální energie $E_p $. Tímto způsobem je část mechanické energie uchována pomocí mechanismu kyvadla.\n",
    "\n",
    "## Rozdíl mezi chůzí a kyvadlem\n",
    "\n",
    "Na rozdíl od kyvadla však dvě změny energie při chůzi nejsou přesnými zrcadlovými obrazy sebe navzájem, což má za následek, že pro udržení pohybu těžiště v sagitální rovině je nutné vykonat práci svaly.\n",
    "\n",
    "## Účinnost mechanismu kyvadla\n",
    "\n",
    "Účinnost mechanismu kyvadla během chůze byla hodnocena měřením podílu celkových změn mechanické energie těžiště, který je obnoven v důsledku proměny mezi $E_p$ a $E_{k}$.\n",
    "\n",
    "$$\n",
    "\\text{Recovery} = \\frac{W_v + W_f - W_\\text{ext}}{W_v + W_{f}} = 1- \\frac{W_\\text{ext}}{W_v + W_{f}} \n",
    "$$\n",
    "kde:\n",
    "- $W_v$ představuje amplitudu křivky $E_p$, tj. pozitivní práci ($W_v = \\Delta E_p$) vykonanou při každém kroku pro zvednutí těžiště\n",
    "- $W_f = \\Delta E_{k}$ představuje amplitudu křivky kinetické energie $E_{k}$\n",
    "- $W_{\\text{ext}}$ je celková pozitivní vnější práce, která je skutečně vykonána při každém kroku pro udržení pohybu těžiště v sagitální rovině.\n",
    "\n",
    "Aby byl optimalizován proces obnovy mechanické energie, musí mít křivky kinetické a gravitační potenciální energie stejný tvar, mít stejnou amplitudu a být v opačné fázi, jako u kyvadla. \n",
    "\n",
    ":::{image}  https://cob.silverchair-cdn.com/cob/content_public/journal/jeb/223/21/10.1242_jeb.232645/3/jeb23264502.png?Expires=1746925973&Signature=c6hxUIP9-uT712QgrSU3U657hqULwhCwYxBM3Oo2pz~6J25Fl8k82L0TuUA0fpCL4lFjcCl4-4C8Y5gwce1o41jx9VGALLJu0SHniQolcfbn3laNdFd6eIyF0b7FuulhTTBhJgqBbRZ7M~3n8Hcedtxh8LaDo48VUFwN0yzivkK9aiwz5S4hWxaqjjJ9ww7rDQTYpTU32MeEdR65MyRAbAW5dzcS-LBG-UNgMsuG4hPUomIQGK5R-sEaNo02jTbwUK1HjXoh5RTezZDw6HCj6MvrDHmhAs0QeiuCVbjpBM5bpOy0rGDTppzsM6iziairEKLzfssgxiHUcCfQtHMxlg__&Key-Pair-Id=APKAIE5G5CRDK6RD3PGA\n",
    ":width:300px\n",
    ":::\n"
   ]
  },
  {
   "cell_type": "code",
   "execution_count": null,
   "id": "36c0f541-2d8f-4e5d-a70d-58bb0f0bb645",
   "metadata": {},
   "outputs": [],
   "source": []
  }
 ],
 "metadata": {
  "kernelspec": {
   "display_name": "Python 3 (ipykernel)",
   "language": "python",
   "name": "python3"
  },
  "language_info": {
   "codemirror_mode": {
    "name": "ipython",
    "version": 3
   },
   "file_extension": ".py",
   "mimetype": "text/x-python",
   "name": "python",
   "nbconvert_exporter": "python",
   "pygments_lexer": "ipython3",
   "version": "3.10.12"
  }
 },
 "nbformat": 4,
 "nbformat_minor": 5
}
