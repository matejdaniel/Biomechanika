{
 "cells": [
  {
   "cell_type": "markdown",
   "id": "78fa69d1-82c8-4aeb-8d37-0d292003f0d3",
   "metadata": {},
   "source": [
    "# Inerciální vlastnosti lidského těla"
   ]
  },
  {
   "cell_type": "code",
   "execution_count": 7,
   "id": "ac69c41a-97e3-4341-a4a2-bce17511d554",
   "metadata": {},
   "outputs": [],
   "source": [
    "import numpy as np\n",
    "from matplotlib import pyplot as plt\n",
    "from IPython.display import YouTubeVideo"
   ]
  },
  {
   "cell_type": "markdown",
   "id": "9c5e61e0-88d8-44f8-8b1e-7e19b618fff9",
   "metadata": {},
   "source": [
    "## Inerciální síly\n",
    "\n",
    "> Inerciální síly v biomechanice jsou síly, které vznikají při pohybu a jsou projevem setrvačnosti.\n",
    "\n",
    "> Setrvačnost je základní vlastnost hmotných těles, která vyjadřuje jejich odpor vůči změně pohybového stavu. \n",
    "\n",
    ":::{note}\n",
    "Inerciální síly jsou přímým důsledkem definice síly pomoci **Newtonových pohybových zákonů**. \n",
    "\n",
    "**1. Zákon setrvačnosti**\n",
    "*  Těleso zůstává v klidu nebo rovnoměrném přímočarém pohybu, není-li nuceno vnějšími silami tento stav změnit.\n",
    "\n",
    "**2. Zákon síly**\n",
    "* Jestliže na těleso (hmotu) působí síla, pak se těleso pohybuje zrychlením, které je přímo úměrné působící síle a nepřímo úměrné hmotnosti tělesa.\n",
    ":::\n",
    "\n",
    "V biomechanice se inerciální síly uplatňují při analýze pohybu lidského těla, zejména v soustavách, které nejsou inerciální (např. při rotaci nebo zrychleném pohybu). Tyto síly odpovídají reakcím na zrychlení soustavy souřadnic a zahrnují setrvačné, odstředivé a Coriolisovy síly. Jejich působení lze zahrnout do rovnic rovnováhy pomocí Newtonových pohybových zákonů ve formě:  \n",
    "\n",
    "$$\n",
    "\\sum \\vec{F}_\\text{skutečné} + \\sum \\vec{F}_\\text{inerciální} = 0\n",
    "$$\n",
    "\n",
    "kde $\\mathbf{F}_\\text{skutečné}$ jsou skutečné vnější a vnitřní síly (např. svalové síly, reakční síly kloubů, gravitace) a $\\mathbf{F}_\\text{inerciální}$ jsou inerciální síly definované jako $-m\\mathbf{a}$ pro lineární pohyb nebo $m \\omega^2 r$ pro rotaci. Protože inerciální síly závisí na popisu pohybu označují se také jako síly **zdánlivé**. Tento popis platí, když uvažujeme souřadnicovou soustavu spojenou s pohybujícím se tělesem. Například, popisujeme síly působící na člověka v rozbíhajícím se vlaku. \n",
    "\n",
    "V praxi se s těmito silami setkáváme například při analýze běhu, kde segmenty těla podléhají zrychlení, nebo při studiu rovnováhy a stabilizace pohybů, kde Coriolisova síla a odstředivá síla ovlivňuje pohyb horních i dolních končetin při rotaci těla."
   ]
  },
  {
   "cell_type": "markdown",
   "id": "75fd9177-f590-454f-8ce4-c6241f8d5a2c",
   "metadata": {},
   "source": [
    "## Inerciální síla při přímočarém pohybu\n",
    "\n",
    "Inerciální síla při změne rychlosti v pohybu po přímce je možné přímo odvodit ze Newtonových zákonů. \n",
    "\n",
    "$$\\vec{F} = m\\vec{a} $$\n",
    "\n",
    "$$ \\vec{F} - m\\vec{a} = 0$$\n",
    "\n",
    "> Inerciální síla pro pro přímočarý pohyb přímo úměrně závisí na hmotnosti a zrychlení. Její směr je opačný ke směru zrychlení.\n",
    "\n",
    "## Příklady inerciální síly při přímočarém pohybu\n",
    "\n",
    "1. **Rozjíždění vlaku** – Pokud stojíte ve vlaku a ten se rozjede dopředu, vaše tělo se zdánlivě pohybuje dozadu. To je důsledek inerciální síly, která působí proti směru zrychlení vlaku.\n",
    "\n",
    "2. **Brzdění auta** – Když řidič náhle zabrzdí, cestující se nakloní dopředu. Inerciální síla v jejich vztažné soustavě působí dozadu, proti zrychlení auta (záporné zrychlení = zpomalení).\n",
    "\n",
    "3. **Start letadla** – Při vzletu letadla pasažéři cítí tlak do sedačky, protože jejich tělo chce setrvat v klidu, zatímco letadlo zrychluje dopředu.\n",
    "\n",
    "4. **Padající výtah** – Pokud se výtah začne náhle pohybovat dolů, člověk uvnitř pocítí pocit \"beztíže\", protože inerciální síla působí nahoru proti směru zrychlení výtahu.\n",
    "\n",
    "Všechny tyto příklady ukazují, že inerciální síla se chová jako \"protiváha\" vůči skutečné síle, která způsobuje zrychlení tělesa v neinerciální soustavě.\n",
    "\n",
    "\n"
   ]
  },
  {
   "cell_type": "markdown",
   "id": "674ae7f4-453f-45fa-a9f1-c6003f808498",
   "metadata": {},
   "source": [
    ":::{note} John Paul Stapp \n",
    "![John Paul Stapp](https://assets-us-01.kc-usercontent.com/9dd25524-761a-000d-d79f-86a5086d4774/393720f0-2b68-4c66-a141-ad44499a95d7/stapp2.jpg?w=400&h=527&auto=format&q=75&fit=crop)\n",
    "\n",
    "Dr. John Paul Stapp si vysloužil titul „nejrychlejší žijící muž“, když 10. prosince 1954 dosáhl na saních Sonic Wind I s raketovým pohonem pozemního rekordu 632 km/h za pět sekund. Utrpěl největší zrychlen9, kterou člověk vydržel při do té doby zaznamenaných zpomalovacích testech, 46,2 $g$, když se saně zastavily za 1,4 sekundy.\n",
    ":::"
   ]
  },
  {
   "cell_type": "code",
   "execution_count": null,
   "id": "d3282e1d-ba53-4533-a0dd-050d7adc4325",
   "metadata": {},
   "outputs": [],
   "source": []
  },
  {
   "cell_type": "code",
   "execution_count": 9,
   "id": "e5e545ec-a4eb-48b7-a995-df620fd302b9",
   "metadata": {},
   "outputs": [
    {
     "data": {
      "image/jpeg": "[encoded data removed]",
      "text/html": [
       "\n",
       "        <iframe\n",
       "            width=\"800\"\n",
       "            height=\"300\"\n",
       "            src=\"https://www.youtube.com/embed/JeC1ekTjoy8\"\n",
       "            frameborder=\"0\"\n",
       "            allowfullscreen\n",
       "            \n",
       "        ></iframe>\n",
       "        "
      ],
      "text/plain": [
       "<IPython.lib.display.YouTubeVideo at 0x751fb9de5630>"
      ]
     },
     "execution_count": 9,
     "metadata": {},
     "output_type": "execute_result"
    }
   ],
   "source": [
    "YouTubeVideo('JeC1ekTjoy8', width=800)"
   ]
  },
  {
   "cell_type": "markdown",
   "id": "d2d55564-06cc-4c28-a739-6bda3032c9f1",
   "metadata": {},
   "source": [
    "### Tolerance lidského těla\n",
    "\n",
    ":::{tip}  Florence + the Machine, Falling\n",
    " *\"Falling's not a problem,*\n",
    "\n",
    "*when I'm falling I'm at peace.*\n",
    "\n",
    "*It's only when I hit the ground*\n",
    "\n",
    "*that causes all the grief.\"*\n",
    "\n",
    "\n",
    ":::\n",
    "\n",
    "Lidské tělo dokáže bez problémů přežít velké rychlosti. To, co nás může zabít, je velké zrychlení. V tomto případě se jako jednotka zrychlení používá gravitační zrychlení \\( g \\). Pokud je zrychlení rovno gravitačnímu zrychlení, označuje se jako **1g**. Při hodnotě **2g** by váha ukázala dvojnásobnou hmotnost. V literatuře se pro dané zrychlení používá pojem **G-Force**.\n",
    "\n",
    ":::{image}  https://upload.wikimedia.org/wikipedia/commons/thumb/9/97/Human_linear_acceleration_tolerance.svg/1280px-Human_linear_acceleration_tolerance.svg.png\n",
    ":width:300px\n",
    ":::\n",
    "\n",
    "Tolerance lidského těla na zrychlení závisí na velikosti, délce doby působení, směru působení, místě působení a držení těla. Lidské tělo je pružné a deformovatelné, zejména měkčí tkáně. Tvrdý políček na obličeji může krátce uložit stovky $g$ místně, ale nezpůsobí žádné skutečné škody; konstantní **16g** po dobu jedné minuty však může být smrtelné. Pokud dochází k vibracím, i relativně nízké hodnoty $g$ mohou být značně škodlivé, pokud se shodují s rezonančním kmitočtem orgánů a pojivových tkání.\n",
    "\n",
    "Odolnost vůči zrychlení je možné do určité míry trénovat. Existují však velké vrozené rozdíly mezi jednotlivci. Navíc některé nemoci, zejména kardiovaskulární problémy, snižují **g-toleranci**.\n",
    "\n",
    "#### Tolerance vertikálního zrychlení\n",
    "\n",
    "Vertikální zrychlení se nejčastěji vyskytuje u pilotů. Rozlišujeme:\n",
    "\n",
    "- **Kladné zrychlení** (směrem nahoru) – tělo je tlačeno sedačkou nahoru, krev se hromadí v nohách. Organismus reaguje zvýšením tepové frekvence a zúžením periferních cév, aby zajistil návrat krve k mozku. Tento mechanismus je účinný, ale trvá přibližně 6 až 9 sekund, než se plně projeví.\n",
    "\n",
    "| Směr zrychlení        | Hodnota zrychlení |\n",
    "|----------------------|-----------------|\n",
    "| Směrem k hlavě      | do **25g**      |\n",
    "| Směrem k nohám      | do **15g**      |\n",
    "| Laterálně           | **20g**         |\n",
    "| Od páteře k sternu  | **45g**         |\n",
    "| Od sternu k páteři  | **45g**         |\n",
    "\n",
    "**Typické příznaky kladného zrychlení** v sestupném pořadí:\n",
    "1. **Šeroslepota** – vidění ztrácí odstín, reverzibilní stav.\n",
    "2. **Tunelové vidění** – ztráta periferního vidění.\n",
    "3. **Ztráta zraku** – při zachování vědomí kvůli nedostatku krve v hlavě.\n",
    "4. **G-LOC** – **Loss of Consciousness** (ztráta vědomí).\n",
    "5. **Smrt**, pokud se zrychlení rychle nesníží.\n",
    "\n",
    "Odolnost vůči kladnému $g$ se liší. Běžný člověk snese přibližně $5g$ (někteří lidé mohou omdlít na horské dráze, kde přetížení přesahuje tuto hodnotu). Trénovaní piloti mohou s pomocí speciálních obleků a tréninku zvládnout až $9g$.\n",
    "\n",
    "Kromě oběhových účinků kladné zrychlení ztěžuje dýchání, protože přesouvá krev do dolních částí plic. Tam dochází ke kolapsu alveol a nedostatečné perfuzi v horních částech plic, což vede k hypoxii mozku. Mezi další negativní efekty patří bolesti svalů a kostí (zejména zad a krku) a drobné podlitiny (tzv. **G-measles**, Geasles) způsobené přetížením kapilár.\n",
    "\n",
    "#### Tolerance negativního zrychlení\n",
    "\n",
    "Odolnost proti negativnímu zrychlení (směrem dolů) je mnohem nižší, protože způsobuje proudění krve do hlavy. Typická tolerance je **2–3g**. Mezi příznaky patří:\n",
    "\n",
    "- **Zčervenání zorného pole** – posun krví nasyceného dolního víčka do zorného pole.\n",
    "- **Deformace sítnicových cév až jejich prasknutí** – může vést ke slepotě.\n",
    "\n",
    "#### Tolerance horizontálního zrychlení\n",
    "\n",
    "Lidské tělo má obecně vyšší toleranci vůči horizontálnímu zrychlení. Směrem dopředu se snáší lépe než směrem dozadu, protože cévy v sítnici hůře zvládají přetížení.\n",
    "\n",
    "Experimenty ukázaly, že nevyškolení lidé snesou zrychlení v závislosti na době působení:\n",
    "\n",
    "- **20g** po dobu **méně než 10 sekund**,\n",
    "- **10g** po dobu **1 minuty**,\n",
    "- **6g** po dobu **10 minut**.\n",
    "\n",
    "Zrychlení v těchto mezích nevedlo k významným kognitivním poruchám, testované osoby byly schopny provádět manuální a komunikační úkoly. Nejvyšší experimentálně zaznamenané horizontální zrychlení přežil průkopník **John Stapp**, který v roce 1954 na raketových saních dosáhl **46,2g** dopředu a více než **25g** po dobu 1,1 sekundy. Tím dokázal, že lidské tělo může přežít extrémní přetížení. Stapp žil dalších **45 let**, avšak utrpěl trvalé poškození zraku.\n",
    "\n",
    ":::{tip} \n",
    "\n",
    "Hodnoty zrychlení pro různé pohyby je možné najít na [wikipedii](https://en.wikipedia.org/wiki/Orders_of_magnitude_(acceleration)).\n"
   ]
  },
  {
   "cell_type": "code",
   "execution_count": 10,
   "id": "33a2cafc-de3e-404e-8a66-5a900ed10d5f",
   "metadata": {},
   "outputs": [
    {
     "data": {
      "image/jpeg": "[encoded data removed]",
      "text/html": [
       "\n",
       "        <iframe\n",
       "            width=\"800\"\n",
       "            height=\"300\"\n",
       "            src=\"https://www.youtube.com/embed/FywlxoDJAl8\"\n",
       "            frameborder=\"0\"\n",
       "            allowfullscreen\n",
       "            \n",
       "        ></iframe>\n",
       "        "
      ],
      "text/plain": [
       "<IPython.lib.display.YouTubeVideo at 0x751fc830dde0>"
      ]
     },
     "execution_count": 10,
     "metadata": {},
     "output_type": "execute_result"
    }
   ],
   "source": [
    "YouTubeVideo('FywlxoDJAl8', width=800)"
   ]
  }
 ],
 "metadata": {
  "kernelspec": {
   "display_name": "Python 3 (ipykernel)",
   "language": "python",
   "name": "python3"
  },
  "language_info": {
   "codemirror_mode": {
    "name": "ipython",
    "version": 3
   },
   "file_extension": ".py",
   "mimetype": "text/x-python",
   "name": "python",
   "nbconvert_exporter": "python",
   "pygments_lexer": "ipython3",
   "version": "3.10.12"
  }
 },
 "nbformat": 4,
 "nbformat_minor": 5
}
