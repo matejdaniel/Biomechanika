{
 "cells": [
  {
   "cell_type": "markdown",
   "id": "fe028d32-737a-46a3-8b85-dd7f32a64e2a",
   "metadata": {},
   "source": [
    "# Biomechanika skoku z místa"
   ]
  },
  {
   "cell_type": "code",
   "execution_count": 6,
   "id": "5523838d-e56b-417e-9859-87926f3790b8",
   "metadata": {},
   "outputs": [],
   "source": [
    "import numpy as np\n",
    "from IPython.display import IFrame"
   ]
  },
  {
   "cell_type": "markdown",
   "id": "f2acf73b-18e7-416c-a347-b1ea9b7f0f9d",
   "metadata": {},
   "source": [
    "## Fáze skoku z místa\n",
    "\n",
    "Nejjednodušším pohybem k analýze je skok z místa. Předpokládáme, že těžiště skokana se pohybuje po přímce směrem nahoru a dolu. protože to představuje jednoduchý přímočarý pohyb. Skok do výšky můžeme rozdělit do několika částí:\n",
    "\n",
    "1. **Podřep**: Před skokem je nutno se přikrčit, protože pak můžeme při narovnání působit na podložku sílou.\n",
    "2. **Odrazová fáze**: Začíná z podřepu, kdy skokan tlačí nohama proti zemi, dokud se chodidla neodlepí od povrchu.\n",
    "3. **Letová fáze**: Od okamžiku, kdy se chodidla odlepí od země, až do dosažení maximální výšky těžiště.\n",
    "4. **Pádová fáze**: Od dosažení maximální výšky až po dotyk ze zemí.\n",
    "5. **Dopadová fáze**: Od dotyku se zemí po dosažení stabilní polohy těžiště. \n",
    "\n",
    "### Analýza skoku\n",
    "\n",
    "Pro zjednodušení analýzy se soustředíme se pouze na pohyb těžiště. Jinými slovy předpokládáme, že během skoku se poloha těla a držení těla nemění. Pro odraz je nutno získat určitý impulz síly. \n",
    "\n",
    "Během odrazové fáze působí na nohy síla $R(t)$, kterou vyvolává odpovídající reakční síla země. \n",
    "Použitím druhého Newtonova zákona získáme:\n",
    "\n",
    "$$\n",
    " F(t) = m a(t)\n",
    "$$\n",
    "kde $F(t)$ je výsledná síla působící v čase $t$. Pomocí impulzu síly můžeme vyjádřit\n",
    "\n",
    "$$\n",
    "I = \\sum\\limits_i F_i(t) \\Delta t_i =  m v\n",
    "$$\n",
    "kde v jednotlivých časových úsecích $\\Delta t_i$ působí na tělo výslední síla $F_i$. Na tělo působí síla gravitace $W$ a síla od podložky $R(t)$\n",
    "\n",
    "$$\n",
    "\\sum\\limits_i (R_i(t)- W) \\Delta t_i = m v \n",
    "$$\n",
    "kde $R_i(t)$ je síla v daném časovém okamžiku. \n",
    "\n",
    "### Průměrná reakční síla\n",
    "\n",
    "Síla $R$ se mění v čase a proto musíme sečíst jednotlivé impulzy působící síly.   Abychom mohli pokračovat v analýze, musíme znát časový průběh síly $R(t)$. Experimentální data ukazují, že během podřepu je reakční síla menší než tělesná hmotnost, ale při odrazu se zvětšuje nad tělesnou hmotnost, což odpovídá pozitivní akceleraci směrem nahoru.  \n",
    "\n",
    "Pro zjednodušení nahradíme skutečný průběh síly ekvivalentní konstantní silou $F_{\\text{equiv}}$. Ekvivalentní síla je sílou, která ma stejný účinek (impulz síly) jako síla, která probíha. Jinými slovy plocha pod křivkou síly $F(t)$ je stejna jako velikost obdélníku $F_\\mathrm{equiv}t$. Její význam je stejný jako význam průměrné síly.  \n",
    "\n",
    ":::{image} https://www.researchgate.net/publication/350775960/figure/fig5/AS:1021052331233280@1620449254106/Countermovement-jump-technique-step-by-step.ppm\n",
    ":::\n",
    "\n",
    "Můžeme tedy napsat:\n",
    "$$\n",
    "(F_\\mathrm{equiv} - W) t = m v \n",
    "$$\n",
    "\n",
    "### Odrazová rychlost\n",
    "\n",
    "Působí je na tělo konstatní síla, pohybuje se rovnoěmrně zrychleně. Předpokládejme, že před odrazem se těžiště sníží o hodnotu $c$. Tato délka je zároveň dráhou rovnoměrně zrychleného pohybu. pro který platí\n",
    "\n",
    "$$c = \\frac{1}{2} v t $$\n",
    "\n",
    "a čas nutný k odrazu je \n",
    "\n",
    "$$t = \\frac{2 c}{v} $$\n",
    "\n",
    "Pro odrazovou rychlost tedy můžeme odvodit\n",
    "\n",
    "$$\n",
    "(F_\\mathrm{equiv} - W) \\frac{2 c}{v} = m v \n",
    "$$\n",
    "\n",
    "$$\n",
    " v = \\sqrt{\\frac{2 c}{m}(F_\\mathrm{equiv} - W)} \n",
    "$$\n",
    "\n",
    "### Výška dosažená během letu\n",
    "\n",
    "Ve vzdušné fázi je tělo skokana vystaveno pouze gravitaci $g$, a tedy pohyb je rovnoměrně spomalený- Výška dosažená těžištěm $h$ je určena podmínkou dosažení maximálního bodu kdy je rychlost nulová\n",
    "\n",
    "$$\n",
    "v - g t = 0\n",
    "$$\n",
    "\n",
    "$$\n",
    "t = \\frac{v}{g}\n",
    "$$\n",
    "\n",
    ":::{caution}\n",
    "Všimněte si, že doba letu po maximální bod a doba následného volného pádu $v=gt$ pádu jsou stejné. Zároveň platí, že odrazová vertikální rychlost je stejná jako dopadová rychlost.\n",
    ":::\n",
    "\n",
    "A pro dráhu rovnoměrně spomaleného pohybu můžeme napsat\n",
    "\n",
    "$$\n",
    "h = v t - \\frac{1}{g}t^2\n",
    "$$\n",
    "\n",
    "$$\n",
    "h = v \\frac{v}{g} - \\frac{1}{2}{g}\\frac{v^2}{g^2}\n",
    "$$\n",
    "\n",
    "$$\n",
    "h = \\frac{1}{2}{g}{v}\n",
    "$$\n",
    "\n",
    "Ze znalosti odrazové rychlosti můžeme napsat\n",
    "\n",
    "$$h = c \\frac{F_\\mathrm{equiv} - W}{m g} $$\n",
    "\n",
    "nebo s uvážením, že $W = m g$\n",
    "\n",
    "$$h = c \\left(\\frac{F_\\mathrm{equiv}}{W}-1\\right) $$\n",
    "\n",
    "což ukazuje, že výška skoku závisí na hloubce podřepu $c$ a průměrné odrazové síle $F_\\text{equiv}$.\n",
    "\n",
    "Za předpokladu, že $F_\\mathrm{equiv} = 2 W$ vyskočímě přibližně do výšky původního podřepu $h=c$. "
   ]
  },
  {
   "cell_type": "markdown",
   "id": "448d65f9-9b69-4bf3-a721-1dc398b35a99",
   "metadata": {},
   "source": [
    "## Skok z dřepu a skok s protipohybem\n",
    "\n",
    ":::{image} https://www.researchgate.net/profile/Bas-Hooren/publication/308767675/figure/fig4/AS:878402605162507@1586438909777/Time-course-of-the-vertical-ground-reaction-force-y-axis-during-a-countermovement-jump_W640.jpg\n",
    ":width:400px\n",
    ":::\n",
    "\n",
    "\n",
    "Časový průběh vertikální reakční síly (osa y) při skoku s protipohybem (CMJ) a skoku z dřepu (SJ). Ačkoli CMJ vede k vyššímu skoku, vyžaduje také více času na provedení (osa x). Podle Van Hooren, B., & Bosch, F. (2016). Influence of muscle slack on high-intensity sport performance: A review. Strength & Conditioning Journal, 38(5), 75–87. [https://doi.org/10.1519/SSC.0000000000000251](https://doi.org/10.1519/SSC.0000000000000251)\n",
    "\n",
    ":::{image} https://www.scienceforsport.com/wp-content/uploads/2016/07/CMJ.png\n",
    ":::\n",
    "\n",
    "\n",
    "Skok s protipohybem *countermovement jump* (CMJ) je vertikální skok, který zahrnuje předchozí pohyb opačným směrem – tedy proti směru následného odrazu. Tento typ skoku je běžně používán k hodnocení vertikální výbušnosti sportovců.\n",
    "\n",
    "V nejjednodušší podobě lze protipohyb chápat jako pohyb dolů následovaný opačným pohybem nahoru. V případě CMJ se jedná o prodloužení určitých svalů při poklesu těžiště před odrazem, kde tyto svaly brzdí pohyb a působí **excentrickou kontrakcí**. Jakmile sportovec dosáhne nejnižší polohy (dosednutí do podřepu), krátce se zastaví (izometrická nebo amortizační fáze), než zahájí koncentrickou svalovou činnost (propulzní fázi), která vyústí ve vertikální skok.\n",
    "\n",
    "Podřep tak můžeme rozdělit do dvou fází:\n",
    "1. **Fáze odlehčení** - kdy stoupá rychlost směrem k podložce\n",
    "2. **Fáze brždění** - kdy zapojením svalů sportovec překonává inerciální sílu (setrvačnost těla) a tím se postupně zastavuje\n",
    "\n",
    "\n",
    ":::{note}\n",
    "Výzkumy ukazují, že CMJ obvykle umožňuje dosáhnout vyššího výskoku než squat jump (SJ), a to přibližně o 20–30 %. Tento rozdíl je dán schopností využít elastickou energii uloženou ve svalech a šlachách během poklesu těžiště, kdy svaly mohou působit větší než izometrickou sílou.\n",
    ":::\n",
    "\n",
    "Výška skoku je odhad změny výšky těžiště sportovce a nejpřesněji ji lze určit pomocí dat ze silové plošiny.\n",
    "Kromě samotné výšky skoku lze měřit i další parametry, avšak jejich získání vyžaduje specializované vybavení, jako je právě silová plošina. Z tohoto důvodu se tyto veličiny běžně neměří ve většině tréninkových prostředí. Přesto poskytují podrobnější obraz o fyzickém profilu sportovce. Mezi klíčové proměnné patří:\n",
    "\n",
    "* Maximální síla (N)\n",
    "* Relativní maximální síla (N·kg⁻¹)\n",
    "* Maximální výkon (W)\n",
    "* Maximální rychlost (m·s⁻¹)\n",
    "* Rychlost vývoje síly (N·s⁻¹)\n",
    "* Impuls síly (N·s)"
   ]
  },
  {
   "cell_type": "markdown",
   "id": "e08ef154-dc3e-4cdf-b087-0ab5f8ee8901",
   "metadata": {},
   "source": [
    "## Nejvyšší skok Christiana Ronalda"
   ]
  },
  {
   "cell_type": "code",
   "execution_count": 5,
   "id": "0df9bb78-97a3-4034-a9f8-4f0b02e4d74e",
   "metadata": {},
   "outputs": [
    {
     "data": {
      "text/html": [
       "\n",
       "        <iframe\n",
       "            width=\"900\"\n",
       "            height=\"500\"\n",
       "            src=\"https://www.olympics.com/en/news/cristiano-ronaldo-highest-jumps-football-vertical-leap\"\n",
       "            frameborder=\"0\"\n",
       "            allowfullscreen\n",
       "            \n",
       "        ></iframe>\n",
       "        "
      ],
      "text/plain": [
       "<IPython.lib.display.IFrame at 0x701abbf18c40>"
      ]
     },
     "execution_count": 5,
     "metadata": {},
     "output_type": "execute_result"
    }
   ],
   "source": [
    "IFrame(\"https://www.olympics.com/en/news/cristiano-ronaldo-highest-jumps-football-vertical-leap\", 900,500)"
   ]
  },
  {
   "cell_type": "markdown",
   "id": "b9b008ec-45bf-4227-bdf5-da6de1f24c7b",
   "metadata": {},
   "source": [
    "V historii fotbalu je nejvyšší zaznamenaný výskok Cristiana Ronalda. V únoru 2013 předvedl Ronaldo při zápase Realu Madrid proti Manchesteru United v osmifinále Ligy mistrů UEFA výskok do výšky 2,93 metru. Když vememe, že výška Ronalda je 1.87 m, výška výskoku byla 1,06 m. V případě, že by před výskokem znížil své těžiště o 0,5 m, co je poměřně značná hodnota, jeho síla přůměrná síla odrazu by byla:\n",
    "\n",
    "$$\\frac{h}{c} + 1 = \\frac{F_\\mathrm{equiv}}{W}$$\n",
    "\n",
    "$$\\frac{1,06}{0.5} + 1 = \\frac{F_\\mathrm{equiv}}{W}$$\n",
    "\n",
    "$${F_\\mathrm{equiv}} \\approx 3 W $$\n",
    "\n",
    "co je o 50% víc než u běžného člověka. "
   ]
  }
 ],
 "metadata": {
  "kernelspec": {
   "display_name": "Python 3 (ipykernel)",
   "language": "python",
   "name": "python3"
  },
  "language_info": {
   "codemirror_mode": {
    "name": "ipython",
    "version": 3
   },
   "file_extension": ".py",
   "mimetype": "text/x-python",
   "name": "python",
   "nbconvert_exporter": "python",
   "pygments_lexer": "ipython3",
   "version": "3.10.12"
  }
 },
 "nbformat": 4,
 "nbformat_minor": 5
}
