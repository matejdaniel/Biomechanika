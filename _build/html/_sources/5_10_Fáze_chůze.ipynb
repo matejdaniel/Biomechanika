{
 "cells": [
  {
   "cell_type": "markdown",
   "id": "7a0daa1a-7781-48f9-9e82-f3d75b7778ca",
   "metadata": {},
   "source": [
    "# Fáze chůze\n",
    "\n",
    "Systematický přístup k analýze chůze je klíčový pro minimalizaci subjektivních chyb a zajištění komplexního hodnocení. Pomáhá eliminovat přirozenou tendenci zaměřovat se pouze na nejvýraznější odchylky a přehlížet subtilnější, ale potenciálně významné abnormality. \n",
    "\n",
    "Bylo vyvinuto několik standardizovaných protokolů a diagramů pro systematické zaznamenávání odchylek v jednotlivých fázích krokového cyklu a v různých kloubech dolní končetiny.\n",
    "\n",
    ":::{image} https://www.researchgate.net/publication/309362425/figure/fig3/AS:419987002019863@1477144112972/Phases-of-the-normal-gait-cycle.png\n",
    "::::\n",
    "\n",
    "Pro usnadnění detailní analýzy se krokový cyklus obvykle dělí na několik fází. Nejzákladnější dělení je na:\n",
    "\n",
    "* **Stojná fáze (stance phase):** Období, kdy je jedna noha v kontaktu se zemí a nese váhu těla. Zahrnuje přibližně 60 % celkového času krokového cyklu.\n",
    "* **Švihová fáze (swing phase):** Období, kdy se jedna noha pohybuje vpřed ve vzduchu. Zahrnuje přibližně 40 % celkového času krokového cyklu.\n",
    "\n",
    "Z hlediska opory celého těla během krokového cyklu se rozlišuje:\n",
    "\n",
    "* **Jednooporová fáze (single support phase):** Období, kdy je váha těla nesena pouze jednou dolní končetinou.\n",
    "* **Dvouoporová fáze (double support phase):** Krátké období na začátku a na konci stojné fáze, kdy jsou obě nohy v kontaktu se zemí (přibližně 10 % celkového času).\n",
    "\n",
    ":::{image} https://www.researchgate.net/publication/301935875/figure/fig24/AS:731640758296581@1551448158216/The-gait-cycle-and-its-eight-events-initial-contact-IC-loading-response-LR.jpg\n",
    ":::\n",
    "\n",
    "**Podrobnější dělení stojné fáze:**\n",
    "\n",
    "* **Počáteční kontakt (Initial Contact - IC):** Okamžik, kdy se pata dopadající nohy poprvé dotkne země.\n",
    "* **Stadium zatěžování (Loading Response - LR):** Období bezprostředně po počátečním kontaktu, kdy dochází k přenosu váhy těla na dopadající končetinu.\n",
    "* **Mezistoj (Midstance - MSt):** Období, kdy je váha těla přímo nad stojnou končetinou a druhá končetina se švihá vpřed.\n",
    "* **Konečný stoj (Terminal Stance - TSt):** Období od konce mezistoje do odvinutí paty. Váha těla se přesouvá na přední část chodidla.\n",
    "* **Předšvihová fáze (Preswing - PSw):** Období od odvinutí paty do odrazu špičky. Dochází k přípravě na švihovou fázi a k odtlačení se od země.\n",
    "\n",
    "**Podrobnější dělení švihové fáze:**\n",
    "\n",
    "* **Počáteční švih (Initial Swing - ISw):** Období od odrazu špičky do okamžiku, kdy se švihající končetina nachází pod trupem.\n",
    "* **Mezišvih (Midswing - MSw):** Období, kdy se švihající končetina pohybuje vpřed a lýtko dosahuje vertikální polohy.\n",
    "* **Konečný švih (Terminal Swing - TSw):** Období od konce mezišvihu do okamžiku těsně před dopadem paty. Končetina se připravuje na kontakt se zemí.\n",
    "\n",
    ":::{image} https://ars.els-cdn.com/content/image/3-s2.0-B9780323859523000111-f03-01-9780323859523.jpg\n",
    ":::\n",
    "\n",
    "Během těchto fází dolní končetina postupně plní specifické požadavky nezbytné pro plynulou a efektivní chůzi.\n",
    "\n",
    "**Další názvosloví:**\n",
    "\n",
    "Existují i další systémy názvosloví pro fáze chůze, například:\n",
    "\n",
    "* **Dle Vaugana (1992):** Úder paty („heel strike“), kontakt nohy („foot flat“), střed stojné fáze („midstance“), odvinutí paty („heel off“), odraz palce („toe off“), zrychlení („acceleration“), střed švihové fáze („midswing“), zpomalení („deceleration“).\n",
    "* **Dle Walla et al. (1987):** Počáteční kontakt („initial contact“ - IC), odvinutí palce druhé nohy („opposite toe off“), odvinutí paty („heel rise“), počáteční kontakt druhé nohy („opposite IC“), odraz palce („toe off“), chodidla na stejné úrovni („feet adjacent“), vertikální postavení tibie („tibia vertical“).\n",
    "\n",
    "Je důležité si uvědomit, že během stojné fáze jedné dolní končetiny probíhá na druhé dolní končetině fáze švihová. Doba trvání celého krokového cyklu je rozdělena na čas stojné fáze a čas fáze švihové. V normální chůzi zaujímá **stojná fáze přibližně 60 %** celkového času (z toho 10 % tvoří období dvojité opory) a **švihová fáze přibližně 40 %**. Tento poměr se však mění s rychlostí chůze. S rostoucí rychlostí se proporcionálně prodlužuje fáze švihová a zkracuje fáze stojná, a tím se zkracuje i doba dvojité opory.\n"
   ]
  }
 ],
 "metadata": {
  "kernelspec": {
   "display_name": "Python 3 (ipykernel)",
   "language": "python",
   "name": "python3"
  },
  "language_info": {
   "codemirror_mode": {
    "name": "ipython",
    "version": 3
   },
   "file_extension": ".py",
   "mimetype": "text/x-python",
   "name": "python",
   "nbconvert_exporter": "python",
   "pygments_lexer": "ipython3",
   "version": "3.10.12"
  }
 },
 "nbformat": 4,
 "nbformat_minor": 5
}
