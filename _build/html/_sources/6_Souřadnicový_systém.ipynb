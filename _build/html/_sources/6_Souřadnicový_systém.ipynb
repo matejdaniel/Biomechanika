{
 "cells": [
  {
   "cell_type": "markdown",
   "id": "3bfc3f05-6851-45fc-8525-75d29852db0d",
   "metadata": {},
   "source": [
    "# Souřadnicový systém\n",
    "\n",
    "Pro zjednodušení určení polohy můžeme polohu vyjádřit v soustavě souřadnic. Nejběžnější a nejjednodušší soustava souřadnic je *kartézská soustava souřadnic*, kde osy jsou navzájem kolmé přímky, nejčastěji se stejnou délkovou jednotkou na všech osách, které se protínají v jediném bodě – počátku. Název je podle francouzského matematika René Descarta (1596–1650), latinsky Cartesius (proto kartézská), který tuto soustavu zavedl a užíval. Poloha, vzdálenost od počátku v jednotlivých osách je relativní a závisí jak od volby počátku, tak od volby směrů jednotlivých souřadnic.\n",
    "\n",
    "**Soustavu souřadnic** tvoří:\n",
    "* počátek, kde se všechny osy protínají, mají společný bod a zároveň hodnoty všech souřadnic jsou nulové\n",
    "* příslušný počet souřadnicových os, které se zpravidla označují malými písmeny v abecedním pořadí: $x, y, z$,\n",
    "* délková (a případně úhlová) jednotka, která se v jednotlivých souřadnicích používá\n",
    "\n",
    "![Kartézska soustava souřadnic](https://upload.wikimedia.org/wikipedia/commons/thumb/2/2c/3D_coordinate_system.svg/487px-3D_coordinate_system.svg.png)\n",
    "\n",
    "## Polohový vektor\n",
    "\n",
    "Polohu bodu můžeme určit také **polohovým vektorem** $\\vec{r}$ jehož počáteční bod je v počátku souřadnic, koncový bod je dán daným\n",
    "bodem. Polohový vektor je učen pomocí jednotlivých souřadnic\n",
    "\n",
    "$$\\vec{r} = (x,y,z) $$\n",
    "\n",
    "![Polohový vektor](http://www.physicsbootcamp.org/external/images/two-dim-motion/position-vector-3d.png)\n",
    "\n",
    "**Velikost polohového vektoru** $\\vec{r}$, který je definován podle svých složek $r(x,y,z)$ můžeme určit pomocí Pytagorovy věty. Při řešení můžeme vyjít z obrázku. Nejdříve určíme průmět vektoru do roviny $xy$ ze znalosti pravoúhlého trojúhelníku\n",
    "$$r_{xy}^2 = x^2 + y^2$$\n",
    "Dále platí\n",
    "$$r^2 = r_{xy} + z^2$$\n",
    "Kombinací obou vztahů získáme\n",
    "$$ r^2 = x^2 + y^2 + z^2 $$\n",
    "$$ r= \\sqrt{x^2 + y^2 + z^2} $$\n",
    "\n",
    "Tento obecný postup s využitím tří souřadnic není nutno vždy využít. Jedná-li se o přímočarý pohyb (pohyb po přímce), je možné\n",
    "definovat polohu bodu jen jednou souřadnicí, např. $x$. Stejně tak v rovině je možné definovat polohu bodu pomocí souřadnic $x$ a $y$.\n",
    "\n",
    "Hodnota jednotlivých souřadnic a polohový vektor závisí na volbě počátku souřadnicového systému. Souřadnicové systémy můžeme rozlišit\n",
    "na \n",
    "* **globální souřadnicový systém** je označován také jako vztažný nebo laboratorní. V případě studia pohybu člověka se jedná o systém\n",
    "pevně spojený se zemí. Počátek souřadnicového systému je možné zvolit libovolně. V globálním souřadnicovém systému můžeme přímo\n",
    "porovnat polohu jednotlivých bodů.\n",
    "* **lokální souřadnicový systém**je souřadnicovým systémem, který je definován vůči segmentu těla, případně kosti. Např. souřadnicový\n",
    "systém femuru může mít počátek ve středu rotace kyčelního kloubu a osa $x$ působí ve směru podélné osy femuru, zatímco souřadnicový systém pánve je definován se středem v symfýze.\n",
    "\n",
    "Při volbě souřadnicových systémů vycházíme z doporučení ISB:\n",
    "![globální souřadnicový systém](https://kineticstoolkit.uqam.ca/doc/_images/geometry_global_coordinates.png)\n",
    "Počátek globálního souřadného systému je fixován s laboratoří;\n",
    "- osa $x$ směřuje dopředu;\n",
    "- osa $y$ směřuje vzhůru;\n",
    "- osa $z$ směřuje doprava.\n",
    "\n",
    "![Lokální souřadnicový systém](https://kineticstoolkit.uqam.ca/doc/_images/fig_geometry_local_coordinates.png)\n",
    "Počátek lokálního souřadného systému horní končetiny je umístěn v ramenním kloubu;\n",
    "- osa $x$ směřuje dopředu;\n",
    "- osa $y$ je zarovnána s paží a směřuje vzhůru;\n",
    "- osa $z$ směřuje doprava.\n"
   ]
  }
 ],
 "metadata": {
  "kernelspec": {
   "display_name": "Python 3 (ipykernel)",
   "language": "python",
   "name": "python3"
  },
  "language_info": {
   "codemirror_mode": {
    "name": "ipython",
    "version": 3
   },
   "file_extension": ".py",
   "mimetype": "text/x-python",
   "name": "python",
   "nbconvert_exporter": "python",
   "pygments_lexer": "ipython3",
   "version": "3.10.12"
  }
 },
 "nbformat": 4,
 "nbformat_minor": 5
}
