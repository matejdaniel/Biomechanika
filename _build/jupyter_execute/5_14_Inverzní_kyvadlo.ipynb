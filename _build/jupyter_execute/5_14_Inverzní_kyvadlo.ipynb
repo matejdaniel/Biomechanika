{
 "cells": [
  {
   "cell_type": "markdown",
   "id": "c45a4fdf-cc23-4baa-8a83-eac7e4e200c4",
   "metadata": {},
   "source": [
    "# Inverzní kyvadlo\n",
    "\n",
    "> Inverzní kyvadlo je těleso jehož těžiště je umístěno nad bodem otáčení, \n",
    "\n",
    "Lidská chůze je často modelována jako pohyb invertovaného kyvadla. V tomto případě noha, která se pohybuje vpřed a dozadu, hraje roli \"ramene\" kyvadla a těžiště těla se pohybuje nad bodem kontaktu s povrchem.\n",
    "\n",
    ":::{image} https://www.researchgate.net/publication/272921986/figure/fig1/AS:11431281210147870@1701997048938/Modeling-walking-as-an-inverted-pendulum.tif\n",
    ":width:300px\n",
    ":::\n",
    "\n",
    "Na rozdíl od běžného kyvadla, které má stabilní rovnovážnou polohu, invertované kyvadlo je stabilní pouze v nevyváženém stavu. Jakýkoliv malý vychýlení z rovnováhy způsobí jeho pád, pokud není stabilizováno vnější silou.\n",
    "\n",
    "## Froudovo číslo\n",
    "\n",
    "> Froudovo číslo v biomechanice pomáhá porovnávat relativní význam inercálních a gravitačních sil při pohybu těla\n",
    "\n",
    "$$Fr = \\frac{v^2}{{gL}}$$\n",
    "\n",
    "* $v$ je charakteristická rychlost pohybu těžiště těla (např. rychlost chůze nebo běhu),\n",
    "* $g$ je zrychlení gravitace,\n",
    "* $L$ je charakteristická délka, která je obvykle délka nohy nebo výška těla.\n",
    "  \n",
    ":::{image} https://www.researchgate.net/profile/James-Lackner-2/publication/12458273/figure/fig4/AS:340782105022464@1458260193017/Gravity-and-leg-length-determine-maximum-walking-speed-A-model-of-walking-in-which-each_W640.jpg\n",
    ":::\n",
    "Model chůze, ve kterém je každá noha na zemi po dobu 50 % každého kroku. Rychlost, jakou se těžiště může pohybovat vpřed ($v$), roste v závislosti na rychlosti, jakou je zrychlováno dolů gravitací ($g$), a na délce stojné nohy ($L$), kolem které noha rotuje.\n",
    "\n",
    "$$Fr = \\frac{\\mathrm{centripetální síla}}{\\text{gravitační síla}} = \\frac{\\frac{mv^2}{L}}{mg} = \\frac{v^2}{Lg}$$\n",
    "\n",
    "Maximální rychlost chůze, kterou lze dosáhnout s rovnými nohami, než dojde k přechodu na běh, je přibližně 3 m/s u jedince s délkou nohy 0,9 m. Při délce kroku 0,7 m je maximální možná frekvence kroků něco málo přes 4/s. Typická přechodová rychlost z bipediální chůze na běh nastává při Froudeově čísle přibližně 0,5. R. M. Alexander zjistil, že zvířata různých velikostí a hmotností, která se pohybují různými rychlostmi, ale mají stejné Froudeovo číslo, vykazují konzistentně podobné způsoby chůze. Studie zjistila, že zvířata obvykle přecházejí z klusu na symetrickou běžeckou chůzi (např. klus nebo krok) při Froudeově čísle přibližně 1,0. Preferenci pro asymetrické způsoby chůze (např. cval, příčný skok, rotační skok, skákání nebo pronk) bylo pozorováno při Froudeových číslech mezi 2,0 a 3,0.\n",
    "\n",
    ":::{note}\n",
    "Na Měsíci, kde je gravitace šestkrát slabší než na Zemi, je maximální rychlost pouze 1,2 m/s, a proto astronauti programu Apollo přecházeli na „skákání“.\n",
    ":::\n",
    "\n",
    "### Interpretace Froudova čísla v biomechanice:\n",
    "\n",
    "- **Fr < 1**: Tento stav se často vztahuje k **chůzi**, kde gravitační síly převládají nad inercí. Pohyb je stabilní a kontrolovaný, přičemž tělo se pohybuje pomalu.\n",
    "- **Fr = 1**: Tento stav odpovídá **kritickému** bodu mezi chůzí a během. Pohyb je na pomezí mezi stabilním a nestabilním, obvykle se vyskytuje v přechodových fázích, například při rozběhu.\n",
    "- **Fr > 1**: Tento stav se vztahuje k **běhu** nebo **skákání**, kde inercie (rychlost pohybu těla) převládají nad gravitačními silami. Pohyb je rychlý a dynamický, a tělo vykazuje větší zrychlení než při chůzi.\n",
    "\n",
    "## Optimální rychlost chůze\n",
    "\n",
    ":::{image} https://wwrichard.net/wp-content/uploads/2014/05/minenergyralston.gif\n",
    ":::\n",
    "Ralston HJ (1958) Energy-speed relation and optimal speed during level walking. Int Z angew. Physiol. einschl. Arbeitsphysiol. 17 (8): 273-288.\n",
    "\n",
    "Když chůzi modelujeme jako pohyb kyvadla\n",
    "\n",
    "$$T = 2 \\pi \\sqrt{\\frac{l}{g}} =   \\frac{2 \\pi}{\\sqrt{g}}\\sqrt{l} = c \\sqrt{l}$$\n",
    "\n",
    "Rychlost chůze pak můžeme určit\n",
    "\n",
    "$$v = \\frac{s}{t} = \\frac{K L}{T}   = C \\sqrt{L}$$\n",
    "\n",
    "kde C = 2.2m$^\\frac{1}{2}$ s$^{−1}$ - koeficient určen experimentálně"
   ]
  }
 ],
 "metadata": {
  "kernelspec": {
   "display_name": "Python 3 (ipykernel)",
   "language": "python",
   "name": "python3"
  },
  "language_info": {
   "codemirror_mode": {
    "name": "ipython",
    "version": 3
   },
   "file_extension": ".py",
   "mimetype": "text/x-python",
   "name": "python",
   "nbconvert_exporter": "python",
   "pygments_lexer": "ipython3",
   "version": "3.10.12"
  }
 },
 "nbformat": 4,
 "nbformat_minor": 5
}