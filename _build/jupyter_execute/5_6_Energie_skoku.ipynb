{
 "cells": [
  {
   "cell_type": "markdown",
   "id": "6227e78e-e9e2-4b6d-aef8-33df8e1e57d4",
   "metadata": {},
   "source": [
    "# Energie skoku\n",
    "\n",
    "Při skoku z místa dochází k zajímavé přeměně různých forem energie:\n",
    "\n",
    "1.  **Chemická energie:** Skok začíná v těle uloženou chemickou energií ve svalech. Tato energie pochází z potravy a je uvolňována metabolickými procesy.\n",
    "\n",
    "2.  **Svalová práce (Mechanická energie):** Nervové impulzy aktivují svaly nohou. Tyto svaly vykonají práci, stahují se a tlačí proti zemi. Tato svalová kontrakce přeměňuje chemickou energii na **mechanickou energii**. Tato mechanická energie má dvě složky:\n",
    "    * **Kinetická energie:** Dodává tělu rychlost směrem vzhůru. Čím silnější je odraz, tím větší je počáteční kinetická energie.\n",
    "    * **Potenciální energie pružnosti:** V okamžiku maximálního ohybu kolen a kotníků se v šlachách a svalech krátkodobě ukládá **potenciální energie pružnosti** (podobně jako u natažené pružiny). Tato energie se následně uvolní a přispěje k odrazu.\n",
    "\n",
    "3.  **Kinetická energie (během letu):** Jakmile se nohy odlepí od země, veškerá energie, která pohání tělo vzhůru, je ve formě **kinetické energie**. Tělo stoupá vzhůru díky této počáteční rychlosti.\n",
    "\n",
    "4.  **Přeměna na potenciální energii (během letu):** Během stoupání se kinetická energie těla postupně přeměňuje na **potenciální gravitační energii**. Čím výše tělo vystoupá, tím větší je jeho potenciální energie a tím menší je jeho kinetická energie (rychlost klesá). V nejvyšším bodě skoku je kinetická energie minimální (momentálně nulová) a potenciální energie je maximální.\n",
    "\n",
    "5.  **Přeměna zpět na kinetickou energii (při pádu):** Po dosažení nejvyššího bodu začne tělo vlivem gravitace padat zpět k zemi. Během pádu se **potenciální energie opět přeměňuje na kinetickou energii** a rychlost těla se zvyšuje.\n",
    "\n",
    "6.  **Dopad (Přeměna na jiné formy energie):** Při dopadu na zem se kinetická energie těla rychle přemění na jiné formy energie:\n",
    "    * **Deformační energie:** Část energie se spotřebuje na deformaci tkání těla (svalů, kostí, chrupavek) a dopadové plochy (země, podlaha).\n",
    "    * **Tepelná energie:** Část energie se v důsledku tření a deformace přemění na teplo v těle a v dopadové ploše.\n",
    "    * **Zvuková energie:** Při dopadu může vzniknout zvuk, což je také forma energie."
   ]
  }
 ],
 "metadata": {
  "kernelspec": {
   "display_name": "Python 3 (ipykernel)",
   "language": "python",
   "name": "python3"
  },
  "language_info": {
   "codemirror_mode": {
    "name": "ipython",
    "version": 3
   },
   "file_extension": ".py",
   "mimetype": "text/x-python",
   "name": "python",
   "nbconvert_exporter": "python",
   "pygments_lexer": "ipython3",
   "version": "3.10.12"
  }
 },
 "nbformat": 4,
 "nbformat_minor": 5
}