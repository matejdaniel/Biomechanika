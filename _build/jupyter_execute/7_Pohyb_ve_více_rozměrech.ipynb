{
 "cells": [
  {
   "cell_type": "markdown",
   "id": "e067a480-ba57-4e5a-b173-bdfcd15bfff9",
   "metadata": {},
   "source": [
    "# Pohyb ve více rozměrech\n",
    "\n",
    "* **Posuvný pohyb**: V případě posuvného pohybu se pohybují všechny body tělesa stejně, t.j. po stejné trajektorii. Pro určení polohy nám tak postačí určit polohu jednoho bodu a to pomocí souřadnic nebo polohového vektoru.\n",
    "\n",
    "* **Otáčivý pohyb**: V lidském těle dochází především k rotačnímu pohybu v kloubech. Na rozdíl od posuvného pohybu, kde se poloha vyjadřuje pomocí souřadnic, vyjadřujeme polohu segmentu těla při rotaci pomocí úhlů rotace.\n",
    "\n",
    "## Pohyb v rovině\n",
    "\n",
    "1. **Poloha bodu ve 2D**\n",
    "Poloha bodu v rovině se nejčastěji popisuje pomocí souřadnic. Souřadnice nám umožní jednoznačně určit, kde se bod nachází vzhledem k pevně zvolenému počátku souřadnic. Poloha bodu v rovině se nejčastěji popisuje pomocí dvou souřadnic. Kartézské souřadnice jsou nejpoužívanějším způsobem, jak popsat polohu bodu v rovině. Tento systém používá dvě vzájemně kolmé osy, obvykle označované jako osa x (horizontální) a osa y (vertikální). Poloha bodu je pak určena uspořádanou dvojicí čísel (x, y), kde:\n",
    "- $x$ je vzdálenost bodu od osy y měřená ve směru osy x.\n",
    "- $y$ je vzdálenost bodu od osy x měřená ve směru osy y.\n",
    "\n",
    "![Poloha bodu v rovině](https://upload.wikimedia.org/wikipedia/commons/thumb/0/0e/Cartesian-coordinate-system.svg/800px-Cartesian-coordinate-system.svg.png)\n",
    "\n",
    "Polohový vektor je určen $\\vec{r} = (x,y)$ a jeho změnou můžeme popsat pohyb\n",
    "$$\\overrightarrow{\\mathbf{v}}(t) = \\frac{\\overrightarrow{\\mathbf{r}}(t_2)-\\overrightarrow{\\mathbf{r}}(t_1)}{t_2-t_1} = \\frac{\\Delta \\overrightarrow{\\mathbf{r}}}{\\Delta t}$$\n",
    "\n",
    "$$ \\overrightarrow{\\mathbf{a}}(t) = \\frac{\\overrightarrow{\\mathbf{v}}(t_2)-\\overrightarrow{\\mathbf{v}}(t_1)}{t_2-t_1} = \\frac{\\Delta \\overrightarrow{\\mathbf{v}}}{\\Delta t}$$\n",
    "\n",
    "2. **Poloha tělesa ve 2D**\n",
    "\n",
    "Chceme-li detailně popsat polohu tělesa v rovině, můžeme kombinovat výhody kartézských pro popis polohy a úhlu natočení pro popis rotace. \n",
    "\n",
    "* **Kartézské souřadnice** $(x, y)$: Určují polohu tělesa vzhledem k počátku souřadného systému a osám x a y.\n",
    "* **Úhel** ($\\varphi$): Udává úhel, který udáva natočení tělesa vůči bodu $(x,y,$ a jedné z os souřadnicového systému\n",
    "\n",
    "![Poloha tělesa v rovině](https://www.researchgate.net/profile/Ri-Yu/publication/356958041/figure/fig3/AS:1131602881060868@1646806559964/A-body-orientation-hint-from-2D-joint-positions_W640.jpg)\n",
    "\n",
    "Pohyb pak popíšeme jako kombinaci rotačního a translačního pohybu. "
   ]
  },
  {
   "cell_type": "markdown",
   "id": "50fbac6d-eabe-424a-aed7-45da779c097b",
   "metadata": {},
   "source": [
    "## Pohyb v prostoru\n",
    "\n",
    "1. **Polohu bodu v prostoru** určíme pomocí tří souřadnic ($x,y,z$).\n",
    "2. **Polohu tělesa v prostoru**  určíme pomocí tří souřadnic ($x,y,z$) a třech natočení ($\\psi, \\varphi, \\vartheta, $).\n",
    "\n",
    "![Natočení hlavy](https://lh5.googleusercontent.com/proxy/cDjfmhJuq6RxgaYCy7yWldZ8yvS07ZwqjfJzrH7EiJlzn7yPKzLTbpC6qIki9t352p5tS89RUWP0euKQimENbQ)"
   ]
  }
 ],
 "metadata": {
  "kernelspec": {
   "display_name": "Python 3 (ipykernel)",
   "language": "python",
   "name": "python3"
  },
  "language_info": {
   "codemirror_mode": {
    "name": "ipython",
    "version": 3
   },
   "file_extension": ".py",
   "mimetype": "text/x-python",
   "name": "python",
   "nbconvert_exporter": "python",
   "pygments_lexer": "ipython3",
   "version": "3.10.12"
  }
 },
 "nbformat": 4,
 "nbformat_minor": 5
}