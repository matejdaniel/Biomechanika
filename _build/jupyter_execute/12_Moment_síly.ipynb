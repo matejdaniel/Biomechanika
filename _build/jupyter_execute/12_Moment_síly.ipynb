{
 "cells": [
  {
   "cell_type": "markdown",
   "id": "286db54f-5803-4e82-ac30-6fa217a6b442",
   "metadata": {},
   "source": [
    "# Moment síly\n",
    "\n",
    "> Moment síly  vyjádřuje schopnost síly vykonat otáčivý\n",
    "   pohyb.\n",
    "\n",
    "Určuje se jako součin velikosti síly $F$ a ramena síly $r$.\n",
    "    \n",
    "$$M = F\\,r$$\n",
    "    \n",
    "Jednotkou momentu síly je Newton meter\n",
    "    \n",
    "$$[M] = \\mathrm{Nm}$$\n",
    "\n",
    "> **Rameno síly** je kolmou vzdáleností mezi středem otáčení a nositelkou síly.\n",
    "\n",
    ":::{image} images/moment.svg\n",
    ":::\n",
    "\n",
    "Síla $F_1$ způsobí otáčení, síla $F_2$ nezpůsobí otáčení.\n",
    "\n",
    "Moment síly nám určuje nakolik je daná síla schopna vykonat rotační pohyb. Pro názornost si představme si, že potřebujeme otočit volantem auta. Je zjevné, že maximální točivý účinek dosáhneme, když budeme působit sílou ve směru kolmice na poloměr otáčení volantu. Na druhé straně se nám nepovede otočit volantem, budeme li působit sílou směrem od středu rotace.\n",
    "\n",
    ":::{image} images/moment2.svg\n",
    ":::\n",
    "\n",
    "Každou sílu tak můžeme rozdělit na sílu, která způsobuje otáčení $F_t$, která je kolmá na polohový vektor spojující střed otáčení a místo působiště síly a na sílu, která nezpůsobuje otáčení $F_r$. V případě síly, která není kolmá na polohový vektor můžeme napsat\n",
    "\n",
    "$$M = F_r \\, r_r = F d \\sin \\alpha$$\n",
    "\n",
    ":::{image} images/moment3.svg\n",
    ":::\n",
    "\n",
    "> Určete, ve které poloze abdukce působí tíhová síla největší addukčním účinkem.\n",
    "\n",
    ":::{image} images/42.jpg\n",
    ":width:300px\n",
    ":::\n",
    "\n",
    "Abdukce a addukce jsou rotačním pohybem. Rotační účinek tíhové síly je dán momentem síly. Protože je tíha horní končetiny stálá, je moment určen velikostí ramena síly. Tíhová síla působí vertikálně, t.j. rameno síly je horizontální vzdálenost mezi středem   rotace ramenního klobu a působištem síly. Maximální moment je tedy v\n",
    "  poloze (c) na obrázku. \n"
   ]
  }
 ],
 "metadata": {
  "kernelspec": {
   "display_name": "Python 3 (ipykernel)",
   "language": "python",
   "name": "python3"
  },
  "language_info": {
   "codemirror_mode": {
    "name": "ipython",
    "version": 3
   },
   "file_extension": ".py",
   "mimetype": "text/x-python",
   "name": "python",
   "nbconvert_exporter": "python",
   "pygments_lexer": "ipython3",
   "version": "3.10.12"
  }
 },
 "nbformat": 4,
 "nbformat_minor": 5
}