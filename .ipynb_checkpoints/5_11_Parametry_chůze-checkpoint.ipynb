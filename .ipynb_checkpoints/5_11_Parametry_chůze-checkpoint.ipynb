{
 "cells": [
  {
   "cell_type": "markdown",
   "id": "74341743-63d3-434b-9b33-f23dea0188e2",
   "metadata": {},
   "source": [
    "# Parametry chůze\n",
    "\n",
    "Analýza jednotlivých složek obou fází chůze je zásadní součástí diagnostiky různých neurologických poruch. Je rovněž nezbytná pro hodnocení pokroku pacienta během rehabilitace a zotavení z následků neurologických onemocnění, muskuloskeletálních poranění či onemocnění nebo amputace dolní končetiny. Klinici a výzkumníci používají k analýze chůze různé kvalitativní a kvantitativní parametry. Systematický přehled z roku 2017 ( Roberts M, Mongeon D, Prince F. Biomechanical parameters for gait analysis: a systematic review of healthy human gait. Phys. Ther. Rehabil. 2017 Aug 16;4(6).) zjistil, že nejdůležitějšími parametry pro analýzu chůze u zdravé dospělé populace jsou rychlost chůze, kadence a délka kroku/kroku dvojitého. Autoři definovali relevantní parametry jako ty, které pomáhají klinikům identifikovat abnormality chůze aplikovatelné v rehabilitačním prostředí. Tyto proměnné lze rozdělit do dvou obecných kategorií:\n",
    "\n",
    "* **Časové proměnné**\n",
    "* **Prostorové (vzdálenostní) proměnné**\n",
    "\n",
    ":::{image} https://www.tekscan.com/sites/default/files/Step%20length.jpg\n",
    ":::\n",
    "\n",
    "### Časové proměnné\n",
    "\n",
    "* **Doba kroku dvojitého (Stride time):** Časový interval mezi dvěma po sobě následujícími počátečními kontakty téže nohy se zemí.\n",
    "* **Doba kroku (Step time):** Časový interval mezi počátečním kontaktem jedné nohy a počátečním kontaktem kontralaterální (protilehlé) nohy se zemí.\n",
    "\n",
    "### Prostorové (vzdálenostní) proměnné\n",
    "\n",
    ":::{image} https://musculoskeletalkey.com/wp-content/uploads/2016/06/F000146f014-001-9781455709779.jpg\n",
    ":width:300px\n",
    ":::\n",
    "\n",
    "* **Délka kroku dvojitého (Stride length):** Vzdálenost mezi dvěma po sobě následujícími počátečními kontakty téže nohy se zemí. Průměrná délka kroku dvojitého je 1,44 metru.\n",
    "* **Délka kroku (Step length):** Vzdálenost mezi počátečním kontaktem jedné nohy a počátečním kontaktem kontralaterální (protilehlé) nohy se zemí. Normální délka kroku je v průměru asi 70 cm.\n",
    "* **Šířka kroku (Step width):** Stranová (mediolaterální) vzdálenost mezi oběma chodidly (rozdíl mezi polohou pravé a levé paty během chůze). Průměrná normální šířka kroku je mezi 8-10 cm. Šířka kroku se zmenšuje s rostoucí rychlostí (chůze, klus, běh, sprint).\n",
    "\n",
    "### Další proměnné\n",
    "\n",
    "* **Kadence (Cadence):** Počet kroků za minutu (kroků/minutu). Zdraví dospělí mají průměrnou kadenci pro pohodlnou rychlost chůze přibližně 90-120 kroků za minutu.\n",
    "* **Rychlost chůze (Gait speed/velocity):** Rychlost je určena kadencí a délkou kroku, měří se v jednotkách vzdálenosti za čas (metry/sekundu). Klinicky se často vypočítává měřením času potřebného k chůzi na určenou vzdálenost, obvykle 6 metrů nebo méně. Zdraví dospělí si sami zvolí pohodlnou rychlost chůze v průměru asi 1,34 m/s. Pomalejší rychlosti korelují se zvýšeným rizikem úmrtnosti u geriatrických pacientů. Normální rychlost chůze primárně zahrnuje dolní končetiny, přičemž paže a trup zajišťují stabilitu a rovnováhu. Při vyšších rychlostech tělo závisí na horních končetinách a trupu pro pohon, rovnováhu a stabilitu, přičemž klouby dolních končetin produkují větší rozsahy pohybu."
   ]
  }
 ],
 "metadata": {
  "kernelspec": {
   "display_name": "Python 3 (ipykernel)",
   "language": "python",
   "name": "python3"
  },
  "language_info": {
   "codemirror_mode": {
    "name": "ipython",
    "version": 3
   },
   "file_extension": ".py",
   "mimetype": "text/x-python",
   "name": "python",
   "nbconvert_exporter": "python",
   "pygments_lexer": "ipython3",
   "version": "3.10.12"
  }
 },
 "nbformat": 4,
 "nbformat_minor": 5
}
