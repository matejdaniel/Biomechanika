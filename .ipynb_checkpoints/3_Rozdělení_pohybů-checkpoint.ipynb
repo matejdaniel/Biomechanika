{
 "cells": [
  {
   "cell_type": "markdown",
   "id": "adeaef26-fa43-4ca0-b3c7-0b23644b4197",
   "metadata": {},
   "source": [
    "# Rozdělení pohybů\n",
    "\n",
    "## Stroboskopie a analýza pohybu\n",
    "\n",
    "Stroboskopické snímky jsou mocným nástrojem pro vizualizaci a analýzu pohybu. Díky nim můžeme rozložit plynulý pohyb na sérii jednotlivých okamžiků, což nám umožňuje detailně zkoumat, jak se těleso pohybuje v čase.\n",
    "\n",
    "![Stroboskopický obraz](https://static.insales-cdn.com/files/1/6239/10016863/original/Jean-Yves-Lemoigne.jpg)\n",
    "\n",
    "**Rozdělení pohybů podle změny v čase**\n",
    "\n",
    "Na základě změn polohy tělesa v čase, které můžeme pozorovat na stroboskopických snímcích, můžeme pohyb rozdělit do několika základních kategorií:\n",
    "\n",
    "* **Rovnoměrný pohyb:** Při tomto pohybu se těleso urazí za stejné časové intervaly vždy stejnou dráhu.\n",
    "* **Nerovnoměrný pohyb:** Při tomto pohybu se těleso pohybuje po přímce, ale dráhy uražené za stejné časové intervaly se liší.\n",
    "    * **Zrychlený pohyb:** Dráhy se postupně zvětšují.\n",
    "    * **Zpomalený pohyb:** Dráhy se postupně zmenšují.\n",
    "\n",
    "## Trajektorie pohybu\n",
    "\n",
    "> Trajektorie je geometrická čára, kterou opisuje hmotný bod nebo těleso při svém pohybu v prostoru. Jinými slovy, je to množina všech bodů, kterými těleso prošlo během svého pohybu.\n",
    "\n",
    "Trajektorie může být složitou křivkou a každý bod těla má při pohybu svou vlastní trajektorii. Kvůli jednoduchosti, můžeme uvažovat pohyb celého člověka a jeho trajektorii budeme popisovat jako pohyb bodu. Tento přístup je vhodný, zajímá-li nás celkový pohyb a ne pohyb jednotlivých částí těla, např. při skoku z letadla nás zajímá celková trajektorie parašutisty, který je pro nás bodem na obloze.\n",
    "\n",
    "![Trajektorie](https://bmclab.pesquisa.ufabc.edu.br/x/salto2/jadel.gif)\n",
    "![Trajektorie](https://www.researchgate.net/profile/Aleksandar-Pavic-2/publication/268289479/figure/fig3/AS:667784501530637@1536223640669/Typical-experimental-setup-for-a-3D-analysis-of-walking-in-medical-and-sports_W640.jpg)\n",
    "\n",
    "Podle tvaru trajektorie dělíme pohyby na:\n",
    "\n",
    "* **Přímočarý pohyb:** Trajektorií je přímka.\n",
    "\n",
    "![Trajektorie](https://pdhpe.net/wp-content/uploads/2017/05/The-application-of-linear-motion-velocity-speed-acceleration-momentum-in-movement-and-performance-contexts-1.png)\n",
    "\n",
    "* **Křivočarý pohyb:** Trajektorií je křivka.\n",
    "    * **Rovinný:** Všechny body tělesa se pohybují v navzájem rovnoběžných rovinách.\n",
    "    * **Prostorový:** Jednotlivé body tělesa vytvářejí při svém pohybu různé prostorové křivky.\n",
    "\n",
    "\n",
    "\n",
    "**Specifické typy pohybů:**\n",
    "\n",
    "* **Posuvný pohyb:** Všechny body tělesa se pohybují se stejnou rychlostí a ve stejném směru.\n",
    "* **Otáčivý pohyb:** Těleso se otáčí kolem pevné osy.\n",
    "* **Složený pohyb:** Kombinace posuvného a otáčivého pohybu.\n",
    "* **Periodický pohyb:** Pohyb, který se opakuje v pravidelných intervalech.\n",
    "\n"
   ]
  }
 ],
 "metadata": {
  "kernelspec": {
   "display_name": "Python 3 (ipykernel)",
   "language": "python",
   "name": "python3"
  },
  "language_info": {
   "codemirror_mode": {
    "name": "ipython",
    "version": 3
   },
   "file_extension": ".py",
   "mimetype": "text/x-python",
   "name": "python",
   "nbconvert_exporter": "python",
   "pygments_lexer": "ipython3",
   "version": "3.10.12"
  }
 },
 "nbformat": 4,
 "nbformat_minor": 5
}
