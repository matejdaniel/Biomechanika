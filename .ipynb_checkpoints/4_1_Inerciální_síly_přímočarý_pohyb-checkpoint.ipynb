{
 "cells": [
  {
   "cell_type": "markdown",
   "id": "78fa69d1-82c8-4aeb-8d37-0d292003f0d3",
   "metadata": {},
   "source": [
    "# Inerciální vlastnosti lidského těla"
   ]
  },
  {
   "cell_type": "code",
   "execution_count": 3,
   "id": "ac69c41a-97e3-4341-a4a2-bce17511d554",
   "metadata": {},
   "outputs": [],
   "source": [
    "import numpy as np\n",
    "from matplotlib import pyplot as plt"
   ]
  },
  {
   "cell_type": "markdown",
   "id": "9c5e61e0-88d8-44f8-8b1e-7e19b618fff9",
   "metadata": {},
   "source": [
    "## Inerciální síly\n",
    "\n",
    "> Inerciální síly v biomechanice jsou síly, které vznikají při pohybu.\n",
    "\n",
    ":::{note}\n",
    "Inerciální síly jsou přímým důsledkem definice síly pomoci **Newtonových pohybových zákonů**. \n",
    "\n",
    "**1. Zákon setrvačnosti**\n",
    "*  Těleso zůstává v klidu nebo rovnoměrném přímočarém pohybu, není-li nuceno vnějšími silami tento stav změnit.\n",
    "\n",
    "**2. Zákon síly**\n",
    "* Jestliže na těleso (hmotu) působí síla, pak se těleso pohybuje zrychlením, které je přímo úměrné působící síle a nepřímo úměrné hmotnosti tělesa.\n",
    ":::\n",
    "\n",
    "V biomechanice se inerciální síly uplatňují při analýze pohybu lidského těla, zejména v soustavách, které nejsou inerciální (např. při rotaci nebo zrychleném pohybu). Tyto síly odpovídají reakcím na zrychlení soustavy souřadnic a zahrnují setrvačné, odstředivé a Coriolisovy síly. Jejich působení lze zahrnout do rovnic rovnováhy pomocí Newtonových pohybových zákonů ve formě:  \n",
    "\n",
    "$$\n",
    "\\sum \\mathbf{F}_\\text{skutečné} + \\sum \\mathbf{F}_\\text{inerciální} = 0\n",
    "$$\n",
    "\n",
    "kde $\\mathbf{F}_\\text{skutečné}$ jsou skutečné vnější a vnitřní síly (např. svalové síly, reakční síly kloubů, gravitace) a $\\mathbf{F}_\\text{inerciální}$ jsou inerciální síly definované jako $-m\\mathbf{a}$ pro lineární pohyb nebo $m \\omega^2 r$ pro rotaci.  \n",
    "\n",
    "V praxi se s těmito silami setkáváme například při analýze běhu, kde segmenty těla podléhají zrychlení, nebo při studiu rovnováhy a stabilizace pohybů, kde Coriolisova síla a odstředivá síla ovlivňuje pohyb horních i dolních končetin při rotaci těla."
   ]
  }
 ],
 "metadata": {
  "kernelspec": {
   "display_name": "Python 3 (ipykernel)",
   "language": "python",
   "name": "python3"
  },
  "language_info": {
   "codemirror_mode": {
    "name": "ipython",
    "version": 3
   },
   "file_extension": ".py",
   "mimetype": "text/x-python",
   "name": "python",
   "nbconvert_exporter": "python",
   "pygments_lexer": "ipython3",
   "version": "3.10.12"
  }
 },
 "nbformat": 4,
 "nbformat_minor": 5
}
