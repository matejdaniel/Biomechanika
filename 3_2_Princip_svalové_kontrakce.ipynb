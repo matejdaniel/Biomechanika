{
 "cells": [
  {
   "cell_type": "markdown",
   "id": "8bd17eb1-aabb-4809-a07b-6a19301a363c",
   "metadata": {},
   "source": [
    "# Princip svalové kontrakce"
   ]
  },
  {
   "attachments": {},
   "cell_type": "markdown",
   "id": "952f1fb8-3d09-4bb8-9e37-ce081beac16c",
   "metadata": {},
   "source": [
    "# Princip klouzajících filament (Sliding Filament Theory)\n",
    "\n",
    "Teorie klouzajících filament vysvětluje mechanismus svalové kontrakce na úrovni sarkomery. Podle této teorie dochází ke **zkrácení svalu** díky **posunu aktinových a myosinových filament vůči sobě**, aniž by se samotná filamenta měnila svou délkou.\n",
    "\n",
    "## Fáze svalové kontrakce \n",
    "\n",
    "Kontrakční cyklus zahrnuje čtyři hlavní fáze:\n",
    "\n",
    ":::{image} https://www.earthslab.com/wp-content/uploads/2017/01/011417_1636_Physiologyo1.jpg\n",
    ":width:600px\n",
    ":::\n",
    "\n",
    "### **1. Připojení (Cross-Bridge Formation)**\n",
    "- **Myosinové hlavy** se připojí k aktinovým filamentům.\n",
    "- Tento proces je umožněn **uvolněním vápníku (Ca²⁺)**, který se váže na **troponin**, což způsobí změnu polohy **tropomyosinu** a odkrytí vazebných míst na aktinu.\n",
    "\n",
    "### **2. Posun (Power Stroke)**\n",
    "- Myosinová hlava se **naklání** a **posouvá aktinová filamenta** směrem ke středu sarkomery.\n",
    "- Tento pohyb je způsoben **uvolněním ADP a P_i** (zbytku fosfátu) z myosinové hlavy.\n",
    "\n",
    "### **3. Uvolnění (Detachment)**\n",
    "- Po provedení pohybu se **myosinová hlava odpojí od aktinu**.\n",
    "- K odpojení je nutná vazba **nové molekuly ATP** na myosin.\n",
    "\n",
    "### **4. Resetování (Reactivation)**\n",
    "- ATP se hydrolyzuje na **ADP a P_i**, což **navrací myosinovou hlavu do výchozí polohy**.\n",
    "- Cyklus se může opakovat, pokud je přítomen Ca²⁺ a ATP.\n",
    "\n",
    "## Aktivace kontrakce nervovým signálem\n",
    "Celý proces kontrakce je řízen nervovým systémem prostřednictvím neuromuskulární signalizace:\n",
    "\n",
    ":::{image} https://s3-us-west-2.amazonaws.com/courses-images/wp-content/uploads/sites/1223/2017/02/08003754/Figure_38_04_06f.png\n",
    ":width:500px\n",
    ":::\n",
    "\n",
    "### **1. Vznik nervového signálu**\n",
    "- Motorický neuron vysílá **akční potenciál**, který se šíří po jeho axonu.\n",
    "\n",
    "### **2. Uvolnění neurotransmiteru**\n",
    "- Na nervosvalové ploténce dochází k uvolnění **acetylcholinu (ACh)** do synaptické štěrbiny.\n",
    "\n",
    "### **3. Depolarizace svalové buňky**\n",
    "- Acetylcholin se váže na receptory svalové membrány (**sarkolemy**), což vede k otevření iontových kanálů.\n",
    "- Do buňky vstupuje **Na⁺**, což způsobuje **depolarizaci membrány** a vytvoření akčního potenciálu.\n",
    "\n",
    "### **4. Uvolnění Ca²⁺**\n",
    "- Akční potenciál se šíří po sarkolemě a **T-tubulech** do sarkoplazmatického retikula.\n",
    "- To způsobí **uvolnění Ca²⁺ do sarkoplazmy**, kde se váže na troponin.\n",
    "\n",
    "### **5. Zahájení kontrakce**\n",
    "- Vápník (Ca²⁺) způsobí změnu konfigurace troponinu a posunutí tropomyosinu, což umožní **vazbu myosinových hlav na aktin**.\n",
    "- Následně probíhá cyklus klouzajících filament.\n",
    "\n",
    "### 4. Relaxace svalu\n",
    "- Po skončení nervového signálu je **Ca²⁺ aktivně pumpován zpět do sarkoplazmatického retikula**.\n",
    "- Tropomyosin opět zakryje vazebná místa na aktinu, což vede k **uvolnění svalu**.\n",
    "\n",
    "### **Shrnutí procesu kontrakce**\n",
    "1. **Nervový signál** → uvolnění **acetylcholinu**.\n",
    "2. **Depolarizace sarkolemy** → uvolnění **Ca²⁺**.\n",
    "3. **Vazba Ca²⁺ na troponin** → odkrytí vazebných míst na aktinu.\n",
    "4. **Cyklus klouzajících filament**:\n",
    "   - Připojení myosinu k aktinu.\n",
    "   - Posun aktinu myosinovou hlavou.\n",
    "   - Uvolnění myosinu.\n",
    "   - Reset myosinu pomocí ATP.\n",
    "5. **Relaxace** → návrat Ca²⁺ do sarkoplazmatického retikula."
   ]
  }
 ],
 "metadata": {
  "kernelspec": {
   "display_name": "Python 3 (ipykernel)",
   "language": "python",
   "name": "python3"
  },
  "language_info": {
   "codemirror_mode": {
    "name": "ipython",
    "version": 3
   },
   "file_extension": ".py",
   "mimetype": "text/x-python",
   "name": "python",
   "nbconvert_exporter": "python",
   "pygments_lexer": "ipython3",
   "version": "3.10.12"
  }
 },
 "nbformat": 4,
 "nbformat_minor": 5
}
